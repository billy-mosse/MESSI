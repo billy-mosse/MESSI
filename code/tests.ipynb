{
 "cells": [
  {
   "cell_type": "code",
   "execution_count": 2,
   "metadata": {},
   "outputs": [],
   "source": [
    "import numpy"
   ]
  },
  {
   "cell_type": "code",
   "execution_count": 3,
   "metadata": {},
   "outputs": [],
   "source": [
    "A = numpy.array([[-1, -1,  1,  0,  0,  0,  0,  0,  0,  0],\n",
    " [ 0,  1, -1,  1,  0,  0,  0,  0,  0,  0],\n",
    " [ 0,  0,  0, -1, -1,  1,  0,  0,  0,  0],\n",
    " [ 0,  0,  0, -1,  0,  0, -1,  1,  0,  0],\n",
    " [ 0,  0,  0,  1,  0,  0,  0, -1,  1,  0],\n",
    " [ 0,  0,  0,  0, -1,  0,  0,  0, -1,  1]])\n"
   ]
  },
  {
   "cell_type": "code",
   "execution_count": 5,
   "metadata": {},
   "outputs": [],
   "source": [
    "v = numpy.array([-1,  1, -1, -1,  1, -1,  1,  1, -1,  1])"
   ]
  },
  {
   "cell_type": "code",
   "execution_count": 10,
   "metadata": {},
   "outputs": [],
   "source": [
    "d1 = numpy.linalg.matrix_rank(A)\n",
    "\n",
    "B = numpy.array([[-1, -1,  1,  0,  0,  0,  0,  0,  0,  0],\n",
    " [ 0,  1, -1,  1,  0,  0,  0,  0,  0,  0],\n",
    " [ 0,  0,  0, -1, -1,  1,  0,  0,  0,  0],\n",
    " [ 0,  0,  0, -1,  0,  0, -1,  1,  0,  0],\n",
    " [ 0,  0,  0,  1,  0,  0,  0, -1,  1,  0],\n",
    " [ 0,  0,  0,  0, -1,  0,  0,  0, -1,  1],\n",
    " [-1, 1, -1, -1, 1, -2, 1, 5, -7, 1]])\n",
    "\n",
    "d2 = numpy.linalg.matrix_rank(B)\n"
   ]
  },
  {
   "cell_type": "code",
   "execution_count": 11,
   "metadata": {},
   "outputs": [
    {
     "name": "stdout",
     "output_type": "stream",
     "text": [
      "6\n",
      "6\n"
     ]
    }
   ],
   "source": [
    "print(d1)\n",
    "print(d2)"
   ]
  },
  {
   "cell_type": "markdown",
   "metadata": {},
   "source": [
    "complexes: ['S0+E', 'ES0', 'S1+E', 'S1+F', 'FS1', 'S0+F', 'P0+S1', 'S1P0', 'P1+S1', 'P1+F', 'FP1', 'P0+F']\n",
    "species: ['S0', 'E', 'ES0', 'S1', 'F', 'FS1', 'P0', 'S1P0', 'P1', 'FP1']\n"
   ]
  },
  {
   "cell_type": "code",
   "execution_count": null,
   "metadata": {},
   "outputs": [],
   "source": [
    "educt_complexes_matrix:\n",
    "    \n",
    "[[1 0 0 0 0 0 0 0 0 0 0 0]\n",
    " [1 0 0 0 0 0 0 0 0 0 0 0]\n",
    " [0 1 1 0 0 0 0 0 0 0 0 0]\n",
    " [0 0 0 1 0 0 1 0 0 0 0 0]\n",
    " [0 0 0 1 0 0 0 0 0 1 0 0]\n",
    " [0 0 0 0 1 1 0 0 0 0 0 0]\n",
    " [0 0 0 0 0 0 1 0 0 0 0 0]\n",
    " [0 0 0 0 0 0 0 1 1 0 0 0]\n",
    " [0 0 0 0 0 0 0 0 0 1 0 0]\n",
    " [0 0 0 0 0 0 0 0 0 0 1 1]]\n"
   ]
  },
  {
   "cell_type": "code",
   "execution_count": 12,
   "metadata": {},
   "outputs": [
    {
     "data": {
      "text/plain": [
       "2.1435469250725863"
      ]
     },
     "execution_count": 12,
     "metadata": {},
     "output_type": "execute_result"
    }
   ],
   "source": [
    "pow(2, 1.1)"
   ]
  },
  {
   "cell_type": "code",
   "execution_count": null,
   "metadata": {},
   "outputs": [],
   "source": []
  }
 ],
 "metadata": {
  "kernelspec": {
   "display_name": "Python 3",
   "language": "python",
   "name": "python3"
  },
  "language_info": {
   "codemirror_mode": {
    "name": "ipython",
    "version": 3
   },
   "file_extension": ".py",
   "mimetype": "text/x-python",
   "name": "python",
   "nbconvert_exporter": "python",
   "pygments_lexer": "ipython3",
   "version": "3.7.3"
  }
 },
 "nbformat": 4,
 "nbformat_minor": 2
}
